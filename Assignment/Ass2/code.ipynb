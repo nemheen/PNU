{
 "cells": [
  {
   "cell_type": "markdown",
   "id": "191a0c9b",
   "metadata": {},
   "source": [
    "Deep Neural Network Model Design Using Assignment #2 IRIS Data"
   ]
  },
  {
   "cell_type": "markdown",
   "id": "74f16bd5",
   "metadata": {},
   "source": [
    "Import all the necessary libraries"
   ]
  },
  {
   "cell_type": "code",
   "execution_count": 84,
   "id": "e23b4549",
   "metadata": {},
   "outputs": [],
   "source": [
    "import numpy as np\n",
    "import pandas as pd\n",
    "from sklearn.datasets import load_iris\n",
    "from sklearn.model_selection import train_test_split\n",
    "from sklearn.preprocessing import StandardScaler, OneHotEncoder\n",
    "from tensorflow.keras.models import Sequential\n",
    "from keras.layers import Conv2D, MaxPooling2D, Activation, Dropout, BatchNormalization, Dense\n",
    "from tensorflow.keras.optimizers import SGD"
   ]
  },
  {
   "cell_type": "markdown",
   "id": "2b505d95",
   "metadata": {},
   "source": [
    "Load Iris dataset which is classic dataset used for classification tasks. It consists of 150 samples of iris flowers, each with four features: sepal length, sepal width, petal length, and petal width. The samples are categorized into three species: Iris Setosa, Iris Versicolor, and Iris Virginica.\n",
    "\n",
    "The feature data (X) and target labels (y) are extracted."
   ]
  },
  {
   "cell_type": "code",
   "execution_count": 106,
   "id": "b74b3ece",
   "metadata": {},
   "outputs": [
    {
     "name": "stdout",
     "output_type": "stream",
     "text": [
      "[[5.1 3.5 1.4 0.2]\n",
      " [5.4 3.9 1.7 0.4]\n",
      " [5.4 3.7 1.5 0.2]\n",
      " [5.7 4.4 1.5 0.4]\n",
      " [5.4 3.4 1.7 0.2]\n",
      " [5.  3.  1.6 0.2]\n",
      " [4.8 3.1 1.6 0.2]\n",
      " [5.  3.2 1.2 0.2]\n",
      " [5.  3.5 1.3 0.3]\n",
      " [4.8 3.  1.4 0.3]\n",
      " [7.  3.2 4.7 1.4]\n",
      " [5.7 2.8 4.5 1.3]\n",
      " [5.  2.  3.5 1. ]\n",
      " [6.7 3.1 4.4 1.4]\n",
      " [5.9 3.2 4.8 1.8]\n",
      " [6.6 3.  4.4 1.4]\n",
      " [5.5 2.4 3.8 1.1]\n",
      " [6.  3.4 4.5 1.6]\n",
      " [5.5 2.6 4.4 1.2]\n",
      " [5.7 3.  4.2 1.2]\n",
      " [6.3 3.3 6.  2.5]\n",
      " [7.6 3.  6.6 2.1]\n",
      " [6.5 3.2 5.1 2. ]\n",
      " [6.4 3.2 5.3 2.3]\n",
      " [6.9 3.2 5.7 2.3]\n",
      " [7.2 3.2 6.  1.8]\n",
      " [7.4 2.8 6.1 1.9]\n",
      " [7.7 3.  6.1 2.3]\n",
      " [6.7 3.1 5.6 2.4]\n",
      " [6.7 3.  5.2 2.3]]\n"
     ]
    }
   ],
   "source": [
    "iris = load_iris() #same dataset to https://archive.ics.uci.edu/ml/datasets/iris)\n",
    "X = iris.data\n",
    "y = iris.target\n",
    "print(X[::5])"
   ]
  },
  {
   "cell_type": "markdown",
   "id": "a8668903",
   "metadata": {},
   "source": [
    "One-hot encode the target variable ot use in a neural network.\n"
   ]
  },
  {
   "cell_type": "code",
   "execution_count": 86,
   "id": "c75467a8",
   "metadata": {},
   "outputs": [
    {
     "name": "stdout",
     "output_type": "stream",
     "text": [
      "[[1. 0. 0.]\n",
      " [1. 0. 0.]\n",
      " [1. 0. 0.]\n",
      " [1. 0. 0.]\n",
      " [1. 0. 0.]]\n"
     ]
    }
   ],
   "source": [
    "encoder = OneHotEncoder(sparse_output=False)\n",
    "y = encoder.fit_transform(y.reshape(-1, 1))\n",
    "print(y[:5])"
   ]
  },
  {
   "cell_type": "code",
   "execution_count": 87,
   "id": "7330dfa4",
   "metadata": {},
   "outputs": [
    {
     "name": "stdout",
     "output_type": "stream",
     "text": [
      "X shape: (150, 4)\n",
      "y shape: (150, 3)\n"
     ]
    }
   ],
   "source": [
    "print(f'X shape: {X.shape}')\n",
    "print(f'y shape: {y.shape}') "
   ]
  },
  {
   "cell_type": "markdown",
   "id": "aef0990b",
   "metadata": {},
   "source": [
    "Split the data into Train (60%), Validation (20%), and Test (20%) as instructed\n",
    "First, data is split into 60-40 parts by train_test_split() function with random state of 42\n",
    "Secondly, 40% data split in half for validation and testing."
   ]
  },
  {
   "cell_type": "code",
   "execution_count": 88,
   "id": "2e0970d6",
   "metadata": {},
   "outputs": [],
   "source": [
    "X_train, X_temp, y_train, y_temp = train_test_split(X, y, test_size=0.4, random_state=42)\n",
    "X_valid, X_test, y_valid, y_test = train_test_split(X_temp, y_temp, test_size=0.5, random_state=42)\n"
   ]
  },
  {
   "cell_type": "markdown",
   "id": "c2c61c59",
   "metadata": {},
   "source": [
    "Standardize the features using StandardScaler."
   ]
  },
  {
   "cell_type": "code",
   "execution_count": 89,
   "id": "719cade0",
   "metadata": {},
   "outputs": [],
   "source": [
    "scaler = StandardScaler()\n",
    "X_train = scaler.fit_transform(X_train)\n",
    "X_valid = scaler.transform(X_valid)\n",
    "X_test = scaler.transform(X_test)"
   ]
  },
  {
   "cell_type": "markdown",
   "id": "bf7a13a5",
   "metadata": {},
   "source": [
    "Build the sequential model using tensorflow.keras."
   ]
  },
  {
   "cell_type": "code",
   "execution_count": 90,
   "id": "226e9546",
   "metadata": {},
   "outputs": [],
   "source": [
    "model = Sequential()"
   ]
  },
  {
   "cell_type": "markdown",
   "id": "926c7525",
   "metadata": {},
   "source": [
    "Add the input layer and first hidden layer with BatchNormalization and Dropout"
   ]
  },
  {
   "cell_type": "code",
   "execution_count": 91,
   "id": "5cb10b66",
   "metadata": {},
   "outputs": [],
   "source": [
    "model.add(Dense(128, input_shape=(X_train.shape[1],), activation='relu'))\n",
    "model.add(BatchNormalization())\n",
    "model.add(Dropout(0.5))"
   ]
  },
  {
   "cell_type": "markdown",
   "id": "845c9122",
   "metadata": {},
   "source": [
    "Second hidden layer with BatchNormalization and Dropout"
   ]
  },
  {
   "cell_type": "code",
   "execution_count": 92,
   "id": "dab4bef0",
   "metadata": {},
   "outputs": [],
   "source": [
    "model.add(Dense(64, activation='relu'))\n",
    "model.add(BatchNormalization())\n",
    "model.add(Dropout(0.5))"
   ]
  },
  {
   "cell_type": "markdown",
   "id": "8692e524",
   "metadata": {},
   "source": [
    "Third hidden layer"
   ]
  },
  {
   "cell_type": "code",
   "execution_count": 93,
   "id": "61468a10",
   "metadata": {},
   "outputs": [],
   "source": [
    "model.add(Dense(32, activation='relu'))"
   ]
  },
  {
   "cell_type": "markdown",
   "id": "788c684c",
   "metadata": {},
   "source": [
    "Output layer with Dense function with the number of classes and softmax"
   ]
  },
  {
   "cell_type": "code",
   "execution_count": 94,
   "id": "57d030f9",
   "metadata": {},
   "outputs": [],
   "source": [
    "model.add(Dense(3, activation='softmax'))"
   ]
  },
  {
   "cell_type": "markdown",
   "id": "02442d17",
   "metadata": {},
   "source": [
    "SGD optimizer with a learning rate and momentum. Momentum helps to maintain direction and speed up the convergence by incorporating information from previous updates."
   ]
  },
  {
   "cell_type": "code",
   "execution_count": 95,
   "id": "91b47625",
   "metadata": {},
   "outputs": [],
   "source": [
    "optimizer = SGD(learning_rate=0.01, momentum=0.9)"
   ]
  },
  {
   "cell_type": "markdown",
   "id": "0168c7cb",
   "metadata": {},
   "source": [
    "Compile the model with categorical_crossentropy as loss function and accuracy as categorical accuracy function"
   ]
  },
  {
   "cell_type": "code",
   "execution_count": 96,
   "id": "004f6b20",
   "metadata": {},
   "outputs": [],
   "source": [
    "model.compile(optimizer=SGD(), loss='categorical_crossentropy', metrics=['accuracy'])\n"
   ]
  },
  {
   "cell_type": "markdown",
   "id": "374bae1b",
   "metadata": {},
   "source": [
    "Print model summary"
   ]
  },
  {
   "cell_type": "code",
   "execution_count": 97,
   "id": "3a44d532",
   "metadata": {},
   "outputs": [
    {
     "name": "stdout",
     "output_type": "stream",
     "text": [
      "Model: \"sequential_9\"\n",
      "_________________________________________________________________\n",
      " Layer (type)                Output Shape              Param #   \n",
      "=================================================================\n",
      " dense_22 (Dense)            (None, 128)               640       \n",
      "                                                                 \n",
      " batch_normalization_6 (Batc  (None, 128)              512       \n",
      " hNormalization)                                                 \n",
      "                                                                 \n",
      " dropout_6 (Dropout)         (None, 128)               0         \n",
      "                                                                 \n",
      " dense_23 (Dense)            (None, 64)                8256      \n",
      "                                                                 \n",
      " batch_normalization_7 (Batc  (None, 64)               256       \n",
      " hNormalization)                                                 \n",
      "                                                                 \n",
      " dropout_7 (Dropout)         (None, 64)                0         \n",
      "                                                                 \n",
      " dense_24 (Dense)            (None, 32)                2080      \n",
      "                                                                 \n",
      " dense_25 (Dense)            (None, 3)                 99        \n",
      "                                                                 \n",
      "=================================================================\n",
      "Total params: 11,843\n",
      "Trainable params: 11,459\n",
      "Non-trainable params: 384\n",
      "_________________________________________________________________\n"
     ]
    }
   ],
   "source": [
    "model.summary()"
   ]
  },
  {
   "cell_type": "markdown",
   "id": "dbc605ba",
   "metadata": {},
   "source": [
    "Train the model on the training data with validation data as supervisied learning goes"
   ]
  },
  {
   "cell_type": "code",
   "execution_count": 104,
   "id": "2285e668",
   "metadata": {},
   "outputs": [
    {
     "name": "stdout",
     "output_type": "stream",
     "text": [
      "Epoch 1/100\n",
      "3/3 [==============================] - 0s 37ms/step - loss: 0.1991 - accuracy: 0.9222 - val_loss: 0.0171 - val_accuracy: 1.0000\n",
      "Epoch 2/100\n",
      "3/3 [==============================] - 0s 18ms/step - loss: 0.1500 - accuracy: 0.9333 - val_loss: 0.0176 - val_accuracy: 1.0000\n",
      "Epoch 3/100\n",
      "3/3 [==============================] - 0s 28ms/step - loss: 0.1408 - accuracy: 0.9556 - val_loss: 0.0150 - val_accuracy: 1.0000\n",
      "Epoch 4/100\n",
      "3/3 [==============================] - 0s 16ms/step - loss: 0.1567 - accuracy: 0.9444 - val_loss: 0.0195 - val_accuracy: 1.0000\n",
      "Epoch 5/100\n",
      "3/3 [==============================] - 0s 16ms/step - loss: 0.0670 - accuracy: 0.9778 - val_loss: 0.0162 - val_accuracy: 1.0000\n",
      "Epoch 6/100\n",
      "3/3 [==============================] - 0s 17ms/step - loss: 0.0735 - accuracy: 0.9667 - val_loss: 0.0140 - val_accuracy: 1.0000\n",
      "Epoch 7/100\n",
      "3/3 [==============================] - 0s 15ms/step - loss: 0.0731 - accuracy: 0.9667 - val_loss: 0.0139 - val_accuracy: 1.0000\n",
      "Epoch 8/100\n",
      "3/3 [==============================] - 0s 16ms/step - loss: 0.0785 - accuracy: 0.9556 - val_loss: 0.0142 - val_accuracy: 1.0000\n",
      "Epoch 9/100\n",
      "3/3 [==============================] - 0s 16ms/step - loss: 0.0462 - accuracy: 0.9889 - val_loss: 0.0131 - val_accuracy: 1.0000\n",
      "Epoch 10/100\n",
      "3/3 [==============================] - 0s 17ms/step - loss: 0.0800 - accuracy: 0.9667 - val_loss: 0.0117 - val_accuracy: 1.0000\n",
      "Epoch 11/100\n",
      "3/3 [==============================] - 0s 18ms/step - loss: 0.0695 - accuracy: 0.9778 - val_loss: 0.0116 - val_accuracy: 1.0000\n",
      "Epoch 12/100\n",
      "3/3 [==============================] - 0s 20ms/step - loss: 0.0485 - accuracy: 0.9889 - val_loss: 0.0114 - val_accuracy: 1.0000\n",
      "Epoch 13/100\n",
      "3/3 [==============================] - 0s 19ms/step - loss: 0.1090 - accuracy: 0.9778 - val_loss: 0.0127 - val_accuracy: 1.0000\n",
      "Epoch 14/100\n",
      "3/3 [==============================] - 0s 18ms/step - loss: 0.0479 - accuracy: 0.9778 - val_loss: 0.0111 - val_accuracy: 1.0000\n",
      "Epoch 15/100\n",
      "3/3 [==============================] - 0s 20ms/step - loss: 0.0645 - accuracy: 0.9889 - val_loss: 0.0111 - val_accuracy: 1.0000\n",
      "Epoch 16/100\n",
      "3/3 [==============================] - 0s 18ms/step - loss: 0.1124 - accuracy: 0.9667 - val_loss: 0.0112 - val_accuracy: 1.0000\n",
      "Epoch 17/100\n",
      "3/3 [==============================] - 0s 17ms/step - loss: 0.0726 - accuracy: 0.9778 - val_loss: 0.0115 - val_accuracy: 1.0000\n",
      "Epoch 18/100\n",
      "3/3 [==============================] - 0s 17ms/step - loss: 0.0721 - accuracy: 0.9778 - val_loss: 0.0115 - val_accuracy: 1.0000\n",
      "Epoch 19/100\n",
      "3/3 [==============================] - 0s 19ms/step - loss: 0.2331 - accuracy: 0.9333 - val_loss: 0.0137 - val_accuracy: 1.0000\n",
      "Epoch 20/100\n",
      "3/3 [==============================] - 0s 18ms/step - loss: 0.1173 - accuracy: 0.9444 - val_loss: 0.0147 - val_accuracy: 1.0000\n",
      "Epoch 21/100\n",
      "3/3 [==============================] - 0s 18ms/step - loss: 0.0567 - accuracy: 0.9889 - val_loss: 0.0143 - val_accuracy: 1.0000\n",
      "Epoch 22/100\n",
      "3/3 [==============================] - 0s 18ms/step - loss: 0.0653 - accuracy: 0.9889 - val_loss: 0.0125 - val_accuracy: 1.0000\n",
      "Epoch 23/100\n",
      "3/3 [==============================] - 0s 19ms/step - loss: 0.0512 - accuracy: 0.9778 - val_loss: 0.0115 - val_accuracy: 1.0000\n",
      "Epoch 24/100\n",
      "3/3 [==============================] - 0s 21ms/step - loss: 0.0610 - accuracy: 0.9667 - val_loss: 0.0120 - val_accuracy: 1.0000\n",
      "Epoch 25/100\n",
      "3/3 [==============================] - 0s 18ms/step - loss: 0.0469 - accuracy: 0.9889 - val_loss: 0.0107 - val_accuracy: 1.0000\n",
      "Epoch 26/100\n",
      "3/3 [==============================] - 0s 18ms/step - loss: 0.1347 - accuracy: 0.9556 - val_loss: 0.0115 - val_accuracy: 1.0000\n",
      "Epoch 27/100\n",
      "3/3 [==============================] - 0s 19ms/step - loss: 0.1215 - accuracy: 0.9444 - val_loss: 0.0104 - val_accuracy: 1.0000\n",
      "Epoch 28/100\n",
      "3/3 [==============================] - 0s 17ms/step - loss: 0.0707 - accuracy: 0.9667 - val_loss: 0.0115 - val_accuracy: 1.0000\n",
      "Epoch 29/100\n",
      "3/3 [==============================] - 0s 19ms/step - loss: 0.1248 - accuracy: 0.9556 - val_loss: 0.0124 - val_accuracy: 1.0000\n",
      "Epoch 30/100\n",
      "3/3 [==============================] - 0s 18ms/step - loss: 0.0744 - accuracy: 0.9778 - val_loss: 0.0112 - val_accuracy: 1.0000\n",
      "Epoch 31/100\n",
      "3/3 [==============================] - 0s 19ms/step - loss: 0.1740 - accuracy: 0.9333 - val_loss: 0.0093 - val_accuracy: 1.0000\n",
      "Epoch 32/100\n",
      "3/3 [==============================] - 0s 18ms/step - loss: 0.0773 - accuracy: 0.9778 - val_loss: 0.0102 - val_accuracy: 1.0000\n",
      "Epoch 33/100\n",
      "3/3 [==============================] - 0s 19ms/step - loss: 0.1626 - accuracy: 0.9444 - val_loss: 0.0114 - val_accuracy: 1.0000\n",
      "Epoch 34/100\n",
      "3/3 [==============================] - 0s 18ms/step - loss: 0.0592 - accuracy: 0.9889 - val_loss: 0.0119 - val_accuracy: 1.0000\n",
      "Epoch 35/100\n",
      "3/3 [==============================] - 0s 18ms/step - loss: 0.0915 - accuracy: 0.9778 - val_loss: 0.0111 - val_accuracy: 1.0000\n",
      "Epoch 36/100\n",
      "3/3 [==============================] - 0s 18ms/step - loss: 0.1090 - accuracy: 0.9556 - val_loss: 0.0110 - val_accuracy: 1.0000\n",
      "Epoch 37/100\n",
      "3/3 [==============================] - 0s 17ms/step - loss: 0.1376 - accuracy: 0.9444 - val_loss: 0.0093 - val_accuracy: 1.0000\n",
      "Epoch 38/100\n",
      "3/3 [==============================] - 0s 17ms/step - loss: 0.0580 - accuracy: 0.9889 - val_loss: 0.0097 - val_accuracy: 1.0000\n",
      "Epoch 39/100\n",
      "3/3 [==============================] - 0s 18ms/step - loss: 0.0581 - accuracy: 0.9556 - val_loss: 0.0100 - val_accuracy: 1.0000\n",
      "Epoch 40/100\n",
      "3/3 [==============================] - 0s 17ms/step - loss: 0.0525 - accuracy: 0.9778 - val_loss: 0.0094 - val_accuracy: 1.0000\n",
      "Epoch 41/100\n",
      "3/3 [==============================] - 0s 18ms/step - loss: 0.0607 - accuracy: 0.9667 - val_loss: 0.0088 - val_accuracy: 1.0000\n",
      "Epoch 42/100\n",
      "3/3 [==============================] - 0s 17ms/step - loss: 0.0344 - accuracy: 0.9889 - val_loss: 0.0083 - val_accuracy: 1.0000\n",
      "Epoch 43/100\n",
      "3/3 [==============================] - 0s 17ms/step - loss: 0.1059 - accuracy: 0.9667 - val_loss: 0.0067 - val_accuracy: 1.0000\n",
      "Epoch 44/100\n",
      "3/3 [==============================] - 0s 17ms/step - loss: 0.0540 - accuracy: 0.9778 - val_loss: 0.0070 - val_accuracy: 1.0000\n",
      "Epoch 45/100\n",
      "3/3 [==============================] - 0s 17ms/step - loss: 0.0790 - accuracy: 0.9667 - val_loss: 0.0077 - val_accuracy: 1.0000\n",
      "Epoch 46/100\n",
      "3/3 [==============================] - 0s 17ms/step - loss: 0.0797 - accuracy: 0.9778 - val_loss: 0.0084 - val_accuracy: 1.0000\n",
      "Epoch 47/100\n",
      "3/3 [==============================] - 0s 15ms/step - loss: 0.1143 - accuracy: 0.9556 - val_loss: 0.0079 - val_accuracy: 1.0000\n",
      "Epoch 48/100\n",
      "3/3 [==============================] - 0s 15ms/step - loss: 0.1002 - accuracy: 0.9778 - val_loss: 0.0082 - val_accuracy: 1.0000\n",
      "Epoch 49/100\n",
      "3/3 [==============================] - 0s 16ms/step - loss: 0.0417 - accuracy: 0.9889 - val_loss: 0.0080 - val_accuracy: 1.0000\n",
      "Epoch 50/100\n",
      "3/3 [==============================] - 0s 18ms/step - loss: 0.1184 - accuracy: 0.9667 - val_loss: 0.0060 - val_accuracy: 1.0000\n",
      "Epoch 51/100\n",
      "3/3 [==============================] - 0s 16ms/step - loss: 0.0654 - accuracy: 0.9667 - val_loss: 0.0067 - val_accuracy: 1.0000\n",
      "Epoch 52/100\n",
      "3/3 [==============================] - 0s 17ms/step - loss: 0.0592 - accuracy: 0.9889 - val_loss: 0.0071 - val_accuracy: 1.0000\n",
      "Epoch 53/100\n",
      "3/3 [==============================] - 0s 17ms/step - loss: 0.0353 - accuracy: 1.0000 - val_loss: 0.0075 - val_accuracy: 1.0000\n",
      "Epoch 54/100\n",
      "3/3 [==============================] - 0s 17ms/step - loss: 0.0916 - accuracy: 0.9556 - val_loss: 0.0085 - val_accuracy: 1.0000\n",
      "Epoch 55/100\n",
      "3/3 [==============================] - 0s 17ms/step - loss: 0.0842 - accuracy: 0.9667 - val_loss: 0.0087 - val_accuracy: 1.0000\n",
      "Epoch 56/100\n",
      "3/3 [==============================] - 0s 16ms/step - loss: 0.0625 - accuracy: 0.9667 - val_loss: 0.0096 - val_accuracy: 1.0000\n",
      "Epoch 57/100\n",
      "3/3 [==============================] - 0s 16ms/step - loss: 0.1211 - accuracy: 0.9667 - val_loss: 0.0099 - val_accuracy: 1.0000\n",
      "Epoch 58/100\n",
      "3/3 [==============================] - 0s 17ms/step - loss: 0.0428 - accuracy: 0.9778 - val_loss: 0.0102 - val_accuracy: 1.0000\n",
      "Epoch 59/100\n"
     ]
    },
    {
     "name": "stdout",
     "output_type": "stream",
     "text": [
      "3/3 [==============================] - 0s 17ms/step - loss: 0.1199 - accuracy: 0.9444 - val_loss: 0.0108 - val_accuracy: 1.0000\n",
      "Epoch 60/100\n",
      "3/3 [==============================] - 0s 17ms/step - loss: 0.0860 - accuracy: 0.9556 - val_loss: 0.0107 - val_accuracy: 1.0000\n",
      "Epoch 61/100\n",
      "3/3 [==============================] - 0s 17ms/step - loss: 0.0767 - accuracy: 0.9889 - val_loss: 0.0109 - val_accuracy: 1.0000\n",
      "Epoch 62/100\n",
      "3/3 [==============================] - 0s 16ms/step - loss: 0.1290 - accuracy: 0.9667 - val_loss: 0.0110 - val_accuracy: 1.0000\n",
      "Epoch 63/100\n",
      "3/3 [==============================] - 0s 18ms/step - loss: 0.1172 - accuracy: 0.9667 - val_loss: 0.0091 - val_accuracy: 1.0000\n",
      "Epoch 64/100\n",
      "3/3 [==============================] - 0s 17ms/step - loss: 0.1309 - accuracy: 0.9556 - val_loss: 0.0109 - val_accuracy: 1.0000\n",
      "Epoch 65/100\n",
      "3/3 [==============================] - 0s 17ms/step - loss: 0.0842 - accuracy: 0.9889 - val_loss: 0.0114 - val_accuracy: 1.0000\n",
      "Epoch 66/100\n",
      "3/3 [==============================] - 0s 16ms/step - loss: 0.0591 - accuracy: 0.9778 - val_loss: 0.0113 - val_accuracy: 1.0000\n",
      "Epoch 67/100\n",
      "3/3 [==============================] - 0s 15ms/step - loss: 0.0975 - accuracy: 0.9667 - val_loss: 0.0118 - val_accuracy: 1.0000\n",
      "Epoch 68/100\n",
      "3/3 [==============================] - 0s 17ms/step - loss: 0.0707 - accuracy: 0.9667 - val_loss: 0.0106 - val_accuracy: 1.0000\n",
      "Epoch 69/100\n",
      "3/3 [==============================] - 0s 18ms/step - loss: 0.1010 - accuracy: 0.9556 - val_loss: 0.0098 - val_accuracy: 1.0000\n",
      "Epoch 70/100\n",
      "3/3 [==============================] - 0s 16ms/step - loss: 0.0454 - accuracy: 0.9889 - val_loss: 0.0109 - val_accuracy: 1.0000\n",
      "Epoch 71/100\n",
      "3/3 [==============================] - 0s 17ms/step - loss: 0.0627 - accuracy: 0.9667 - val_loss: 0.0103 - val_accuracy: 1.0000\n",
      "Epoch 72/100\n",
      "3/3 [==============================] - 0s 17ms/step - loss: 0.0801 - accuracy: 0.9556 - val_loss: 0.0102 - val_accuracy: 1.0000\n",
      "Epoch 73/100\n",
      "3/3 [==============================] - 0s 17ms/step - loss: 0.1211 - accuracy: 0.9556 - val_loss: 0.0116 - val_accuracy: 1.0000\n",
      "Epoch 74/100\n",
      "3/3 [==============================] - 0s 17ms/step - loss: 0.0617 - accuracy: 0.9667 - val_loss: 0.0101 - val_accuracy: 1.0000\n",
      "Epoch 75/100\n",
      "3/3 [==============================] - 0s 17ms/step - loss: 0.0631 - accuracy: 0.9778 - val_loss: 0.0099 - val_accuracy: 1.0000\n",
      "Epoch 76/100\n",
      "3/3 [==============================] - 0s 17ms/step - loss: 0.0595 - accuracy: 0.9889 - val_loss: 0.0092 - val_accuracy: 1.0000\n",
      "Epoch 77/100\n",
      "3/3 [==============================] - 0s 18ms/step - loss: 0.0564 - accuracy: 0.9778 - val_loss: 0.0100 - val_accuracy: 1.0000\n",
      "Epoch 78/100\n",
      "3/3 [==============================] - 0s 17ms/step - loss: 0.0956 - accuracy: 0.9667 - val_loss: 0.0101 - val_accuracy: 1.0000\n",
      "Epoch 79/100\n",
      "3/3 [==============================] - 0s 18ms/step - loss: 0.0598 - accuracy: 0.9667 - val_loss: 0.0098 - val_accuracy: 1.0000\n",
      "Epoch 80/100\n",
      "3/3 [==============================] - 0s 17ms/step - loss: 0.1718 - accuracy: 0.9222 - val_loss: 0.0088 - val_accuracy: 1.0000\n",
      "Epoch 81/100\n",
      "3/3 [==============================] - 0s 18ms/step - loss: 0.0420 - accuracy: 0.9889 - val_loss: 0.0089 - val_accuracy: 1.0000\n",
      "Epoch 82/100\n",
      "3/3 [==============================] - 0s 17ms/step - loss: 0.0674 - accuracy: 0.9667 - val_loss: 0.0098 - val_accuracy: 1.0000\n",
      "Epoch 83/100\n",
      "3/3 [==============================] - 0s 17ms/step - loss: 0.0557 - accuracy: 0.9778 - val_loss: 0.0107 - val_accuracy: 1.0000\n",
      "Epoch 84/100\n",
      "3/3 [==============================] - 0s 17ms/step - loss: 0.0747 - accuracy: 0.9556 - val_loss: 0.0097 - val_accuracy: 1.0000\n",
      "Epoch 85/100\n",
      "3/3 [==============================] - 0s 17ms/step - loss: 0.1182 - accuracy: 0.9667 - val_loss: 0.0104 - val_accuracy: 1.0000\n",
      "Epoch 86/100\n",
      "3/3 [==============================] - 0s 18ms/step - loss: 0.0716 - accuracy: 0.9667 - val_loss: 0.0111 - val_accuracy: 1.0000\n",
      "Epoch 87/100\n",
      "3/3 [==============================] - 0s 17ms/step - loss: 0.1457 - accuracy: 0.9556 - val_loss: 0.0098 - val_accuracy: 1.0000\n",
      "Epoch 88/100\n",
      "3/3 [==============================] - 0s 18ms/step - loss: 0.0575 - accuracy: 0.9778 - val_loss: 0.0111 - val_accuracy: 1.0000\n",
      "Epoch 89/100\n",
      "3/3 [==============================] - 0s 18ms/step - loss: 0.1154 - accuracy: 0.9667 - val_loss: 0.0122 - val_accuracy: 1.0000\n",
      "Epoch 90/100\n",
      "3/3 [==============================] - 0s 18ms/step - loss: 0.0558 - accuracy: 0.9778 - val_loss: 0.0115 - val_accuracy: 1.0000\n",
      "Epoch 91/100\n",
      "3/3 [==============================] - 0s 17ms/step - loss: 0.0448 - accuracy: 0.9778 - val_loss: 0.0118 - val_accuracy: 1.0000\n",
      "Epoch 92/100\n",
      "3/3 [==============================] - 0s 17ms/step - loss: 0.0188 - accuracy: 1.0000 - val_loss: 0.0112 - val_accuracy: 1.0000\n",
      "Epoch 93/100\n",
      "3/3 [==============================] - 0s 17ms/step - loss: 0.0965 - accuracy: 0.9556 - val_loss: 0.0109 - val_accuracy: 1.0000\n",
      "Epoch 94/100\n",
      "3/3 [==============================] - 0s 17ms/step - loss: 0.0516 - accuracy: 0.9889 - val_loss: 0.0112 - val_accuracy: 1.0000\n",
      "Epoch 95/100\n",
      "3/3 [==============================] - 0s 17ms/step - loss: 0.0882 - accuracy: 0.9556 - val_loss: 0.0100 - val_accuracy: 1.0000\n",
      "Epoch 96/100\n",
      "3/3 [==============================] - 0s 16ms/step - loss: 0.0668 - accuracy: 0.9667 - val_loss: 0.0080 - val_accuracy: 1.0000\n",
      "Epoch 97/100\n",
      "3/3 [==============================] - 0s 16ms/step - loss: 0.1208 - accuracy: 0.9667 - val_loss: 0.0073 - val_accuracy: 1.0000\n",
      "Epoch 98/100\n",
      "3/3 [==============================] - 0s 17ms/step - loss: 0.0975 - accuracy: 0.9889 - val_loss: 0.0076 - val_accuracy: 1.0000\n",
      "Epoch 99/100\n",
      "3/3 [==============================] - 0s 17ms/step - loss: 0.0907 - accuracy: 0.9556 - val_loss: 0.0095 - val_accuracy: 1.0000\n",
      "Epoch 100/100\n",
      "3/3 [==============================] - 0s 17ms/step - loss: 0.0961 - accuracy: 0.9556 - val_loss: 0.0103 - val_accuracy: 1.0000\n"
     ]
    }
   ],
   "source": [
    "history = model.fit(X_train, y_train, validation_data=(X_valid, y_valid), epochs=100, batch_size=32)"
   ]
  },
  {
   "cell_type": "markdown",
   "id": "6bba8d23",
   "metadata": {},
   "source": [
    "Evaluate the model on the test data to see how well it works on unseen data"
   ]
  },
  {
   "cell_type": "code",
   "execution_count": 105,
   "id": "cbc03419",
   "metadata": {},
   "outputs": [
    {
     "name": "stdout",
     "output_type": "stream",
     "text": [
      "1/1 [==============================] - 0s 31ms/step - loss: 0.1177 - accuracy: 0.9667\n",
      "Test Loss: 0.1177058145403862, Test Accuracy: 0.9666666388511658\n"
     ]
    }
   ],
   "source": [
    "test_loss, test_accuracy = model.evaluate(X_test, y_test)\n",
    "print(f'Test Loss: {test_loss}, Test Accuracy: {test_accuracy}')"
   ]
  },
  {
   "cell_type": "markdown",
   "id": "32fead6d",
   "metadata": {},
   "source": [
    "Accuracy is pretty good, I think model does a fina job. When parameters of epochs and batch_size were changed to (200,32), (100, 64), no improvement showed. So, simple is better."
   ]
  }
 ],
 "metadata": {
  "kernelspec": {
   "display_name": "[Tensorflow2.x]",
   "language": "python",
   "name": "tf2"
  },
  "language_info": {
   "codemirror_mode": {
    "name": "ipython",
    "version": 3
   },
   "file_extension": ".py",
   "mimetype": "text/x-python",
   "name": "python",
   "nbconvert_exporter": "python",
   "pygments_lexer": "ipython3",
   "version": "3.10.9"
  }
 },
 "nbformat": 4,
 "nbformat_minor": 5
}
