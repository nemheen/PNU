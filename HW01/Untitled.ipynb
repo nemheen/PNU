{
 "cells": [
  {
   "cell_type": "code",
   "execution_count": 1,
   "id": "ec474933",
   "metadata": {},
   "outputs": [
    {
     "name": "stdout",
     "output_type": "stream",
     "text": [
      "(750, 599) RGB JPEG\n"
     ]
    }
   ],
   "source": [
    "# import the packages we need for this assignment\n",
    "from PIL import Image\n",
    "import numpy as np\n",
    "\n",
    "# open the test image\n",
    "# Note: If you didn't launch Python from the same directory where you saved\n",
    "#       the file, chipmunk.png, you'll need to provide the full path name as\n",
    "#       the argument to Image.open\n",
    "im = Image.open('chipmunk.png')\n",
    "\n",
    "# display relevant Image class attributes: dimensions (width, height),\n",
    "# pixel format and file format\n",
    "print (im.size, im.mode, im.format)\n",
    "\n",
    "# Note: PIL does not have a built-in image display tool.  Instead, principally\n",
    "# for debugging, there's a show method which saves an image to a temporary file\n",
    "# on disk and calls a platform dependent external display utility\n",
    "# (the default being \"xv\" on unix, and the \"Paint\" program on Windows).\n",
    "\n",
    "# display the image\n",
    "im.show()"
   ]
  },
  {
   "cell_type": "code",
   "execution_count": 3,
   "id": "40cef8a7",
   "metadata": {},
   "outputs": [
    {
     "data": {
      "text/plain": [
       "(750, 599)"
      ]
     },
     "execution_count": 3,
     "metadata": {},
     "output_type": "execute_result"
    }
   ],
   "source": [
    "im.size"
   ]
  },
  {
   "cell_type": "code",
   "execution_count": 7,
   "id": "0626b95b",
   "metadata": {},
   "outputs": [],
   "source": [
    "im = im.convert('L')"
   ]
  },
  {
   "cell_type": "code",
   "execution_count": 8,
   "id": "1c113897",
   "metadata": {},
   "outputs": [],
   "source": [
    "im.show()"
   ]
  },
  {
   "cell_type": "code",
   "execution_count": 9,
   "id": "4bbb2490",
   "metadata": {},
   "outputs": [],
   "source": [
    "im2 = im.crop((280,150,430,300))\n",
    "\n",
    "im2.save('chipmunk_head.png', 'PNG')\n",
    "\n",
    "im2.show()"
   ]
  },
  {
   "cell_type": "code",
   "execution_count": 10,
   "id": "67824ac3",
   "metadata": {},
   "outputs": [
    {
     "data": {
      "text/plain": [
       "array([[ 55,  55,  55, ...,  57,  57,  56],\n",
       "       [ 54,  54,  54, ...,  57,  56,  55],\n",
       "       [ 55,  55,  55, ...,  60,  56,  58],\n",
       "       ...,\n",
       "       [101,  79, 103, ..., 115, 115, 129],\n",
       "       [ 98,  83, 106, ..., 116, 117, 114],\n",
       "       [ 97,  89, 109, ..., 113, 120, 102]], dtype=uint8)"
      ]
     },
     "execution_count": 10,
     "metadata": {},
     "output_type": "execute_result"
    }
   ],
   "source": [
    "im2_arr = np.asarray(im2)\n",
    "\n",
    "im2_arr"
   ]
  },
  {
   "cell_type": "code",
   "execution_count": 11,
   "id": "a9e89539",
   "metadata": {},
   "outputs": [
    {
     "data": {
      "text/plain": [
       "125.47813333333333"
      ]
     },
     "execution_count": 11,
     "metadata": {},
     "output_type": "execute_result"
    }
   ],
   "source": [
    "avg = np.mean(im2_arr)\n",
    "avg"
   ]
  },
  {
   "cell_type": "code",
   "execution_count": 12,
   "id": "46926749",
   "metadata": {},
   "outputs": [],
   "source": [
    "im3_arr = im2_arr.copy()"
   ]
  },
  {
   "cell_type": "code",
   "execution_count": 13,
   "id": "2ffba065",
   "metadata": {},
   "outputs": [
    {
     "data": {
      "text/plain": [
       "array([[105, 105, 105, 106, 108, 109, 109, 108, 106, 109],\n",
       "       [104, 104, 104, 106, 107, 109, 108, 107, 105, 108],\n",
       "       [105, 105, 105, 108, 111, 110, 106, 102, 106, 110],\n",
       "       [105, 103, 103, 106, 110, 111, 110, 108, 105, 109],\n",
       "       [110, 107, 105, 105, 107, 108, 108, 108, 105, 108],\n",
       "       [109, 107, 104, 104, 105, 106, 106, 106, 106, 108],\n",
       "       [ 99,  99, 100, 103, 106, 108, 108, 108, 107, 106],\n",
       "       [ 97,  98, 100, 103, 104, 105, 104, 104, 105, 104],\n",
       "       [101, 101, 102, 103, 102, 100,  99,  99, 102, 102],\n",
       "       [ 99, 100, 101, 101, 101, 101, 101, 102,  98,  99]], dtype=uint8)"
      ]
     },
     "execution_count": 13,
     "metadata": {},
     "output_type": "execute_result"
    }
   ],
   "source": [
    "for x in range(0, 150):\n",
    "    for y in range(0,150):\n",
    "        im3_arr[y,x] = min(im3_arr[y,x] + 50, 255)\n",
    "im3_arr[:10, :10]"
   ]
  },
  {
   "cell_type": "code",
   "execution_count": 14,
   "id": "de1e55e0",
   "metadata": {},
   "outputs": [],
   "source": [
    "im3 = Image.fromarray(im3_arr)\n",
    "im3.save('chipmunk_head_bright.png','PNG')\n",
    "im3.show()"
   ]
  },
  {
   "cell_type": "code",
   "execution_count": 15,
   "id": "3ee4390d",
   "metadata": {},
   "outputs": [
    {
     "data": {
      "text/plain": [
       "array([[ 55,  55,  55, ...,  57,  57,  56],\n",
       "       [ 54,  54,  54, ...,  57,  56,  55],\n",
       "       [ 55,  55,  55, ...,  60,  56,  58],\n",
       "       ...,\n",
       "       [101,  79, 103, ..., 115, 115, 129],\n",
       "       [ 98,  83, 106, ..., 116, 117, 114],\n",
       "       [ 97,  89, 109, ..., 113, 120, 102]], dtype=uint8)"
      ]
     },
     "execution_count": 15,
     "metadata": {},
     "output_type": "execute_result"
    }
   ],
   "source": [
    "im4_array = im2_arr.copy()\n",
    "im4_array"
   ]
  },
  {
   "cell_type": "code",
   "execution_count": 16,
   "id": "8ba9cef3",
   "metadata": {},
   "outputs": [
    {
     "data": {
      "text/plain": [
       "array([[27.5, 27.5, 27.5, ..., 28.5, 28.5, 28. ],\n",
       "       [27. , 27. , 27. , ..., 28.5, 28. , 27.5],\n",
       "       [27.5, 27.5, 27.5, ..., 30. , 28. , 29. ],\n",
       "       ...,\n",
       "       [50.5, 39.5, 51.5, ..., 57.5, 57.5, 64.5],\n",
       "       [49. , 41.5, 53. , ..., 58. , 58.5, 57. ],\n",
       "       [48.5, 44.5, 54.5, ..., 56.5, 60. , 51. ]])"
      ]
     },
     "execution_count": 16,
     "metadata": {},
     "output_type": "execute_result"
    }
   ],
   "source": [
    "im4_array = im4_array * 0.5\n",
    "im4_array"
   ]
  },
  {
   "cell_type": "code",
   "execution_count": 19,
   "id": "a64be75e",
   "metadata": {},
   "outputs": [
    {
     "data": {
      "text/plain": [
       "array([[27, 27, 27, ..., 28, 28, 28],\n",
       "       [27, 27, 27, ..., 28, 28, 27],\n",
       "       [27, 27, 27, ..., 30, 28, 29],\n",
       "       ...,\n",
       "       [50, 39, 51, ..., 57, 57, 64],\n",
       "       [49, 41, 53, ..., 58, 58, 57],\n",
       "       [48, 44, 54, ..., 56, 60, 51]], dtype=uint8)"
      ]
     },
     "execution_count": 19,
     "metadata": {},
     "output_type": "execute_result"
    }
   ],
   "source": [
    "im4_array = im4_array.astype('uint8')\n",
    "im4_array"
   ]
  },
  {
   "cell_type": "code",
   "execution_count": 20,
   "id": "a61f388b",
   "metadata": {},
   "outputs": [],
   "source": [
    "im4 = Image.fromarray(im4_array)\n",
    "im4.save('chipmunk_head_dark.png','PNG')\n",
    "im4.show()"
   ]
  },
  {
   "cell_type": "code",
   "execution_count": 24,
   "id": "67c96f6f",
   "metadata": {},
   "outputs": [
    {
     "data": {
      "text/plain": [
       "array([[  0,   1,   2, ..., 253, 254, 255],\n",
       "       [  0,   1,   2, ..., 253, 254, 255],\n",
       "       [  0,   1,   2, ..., 253, 254, 255],\n",
       "       ...,\n",
       "       [  0,   1,   2, ..., 253, 254, 255],\n",
       "       [  0,   1,   2, ..., 253, 254, 255],\n",
       "       [  0,   1,   2, ..., 253, 254, 255]])"
      ]
     },
     "execution_count": 24,
     "metadata": {},
     "output_type": "execute_result"
    }
   ],
   "source": [
    "grad = np.arange(0,256)\n",
    "grad = np.tile(grad,[256,1])\n",
    "grad"
   ]
  },
  {
   "cell_type": "code",
   "execution_count": null,
   "id": "a4d33ec1",
   "metadata": {},
   "outputs": [],
   "source": [
    "im5 = (Image.fromarray(grad.astype('uint8')))\n",
    "im5.save('gradient.png','PNG')\n",
    "im5.show()"
   ]
  },
  {
   "cell_type": "code",
   "execution_count": 25,
   "id": "e818ff8b",
   "metadata": {},
   "outputs": [
    {
     "data": {
      "text/plain": [
       "(256, 256)"
      ]
     },
     "execution_count": 25,
     "metadata": {},
     "output_type": "execute_result"
    }
   ],
   "source": [
    "grad.shape"
   ]
  },
  {
   "cell_type": "code",
   "execution_count": null,
   "id": "ecde2c10",
   "metadata": {},
   "outputs": [],
   "source": []
  }
 ],
 "metadata": {
  "kernelspec": {
   "display_name": "Python 3 (ipykernel)",
   "language": "python",
   "name": "python3"
  },
  "language_info": {
   "codemirror_mode": {
    "name": "ipython",
    "version": 3
   },
   "file_extension": ".py",
   "mimetype": "text/x-python",
   "name": "python",
   "nbconvert_exporter": "python",
   "pygments_lexer": "ipython3",
   "version": "3.10.9"
  }
 },
 "nbformat": 4,
 "nbformat_minor": 5
}
